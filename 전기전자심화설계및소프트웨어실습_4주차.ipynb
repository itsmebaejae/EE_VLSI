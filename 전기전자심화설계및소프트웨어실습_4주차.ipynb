{
  "cells": [
    {
      "cell_type": "markdown",
      "metadata": {
        "id": "view-in-github",
        "colab_type": "text"
      },
      "source": [
        "<a href=\"https://colab.research.google.com/github/itsmebaejae/EE_VLSI/blob/main/%EC%A0%84%EA%B8%B0%EC%A0%84%EC%9E%90%EC%8B%AC%ED%99%94%EC%84%A4%EA%B3%84%EB%B0%8F%EC%86%8C%ED%94%84%ED%8A%B8%EC%9B%A8%EC%96%B4%EC%8B%A4%EC%8A%B5_4%EC%A3%BC%EC%B0%A8.ipynb\" target=\"_parent\"><img src=\"https://colab.research.google.com/assets/colab-badge.svg\" alt=\"Open In Colab\"/></a>"
      ]
    },
    {
      "cell_type": "code",
      "execution_count": null,
      "metadata": {
        "id": "86ms3dKAZbVm",
        "colab": {
          "base_uri": "https://localhost:8080/"
        },
        "outputId": "8082b050-8e42-4db1-dac7-77b3671ee1bf"
      },
      "outputs": [
        {
          "output_type": "stream",
          "name": "stdout",
          "text": [
            "Drive already mounted at /content/drive; to attempt to forcibly remount, call drive.mount(\"/content/drive\", force_remount=True).\n"
          ]
        }
      ],
      "source": [
        "from google.colab import drive\n",
        "#drive.flush_and_unmount()\n",
        "drive.mount('/content/drive')"
      ]
    },
    {
      "cell_type": "code",
      "execution_count": null,
      "metadata": {
        "colab": {
          "base_uri": "https://localhost:8080/"
        },
        "id": "yFtBp7aLZ2cY",
        "outputId": "99c93d12-4871-42e2-8847-4ce22ffcfe45"
      },
      "outputs": [
        {
          "output_type": "stream",
          "name": "stdout",
          "text": [
            "/content/drive/My Drive/전전심설\n"
          ]
        }
      ],
      "source": [
        "cd \"/content/drive/My Drive/전전심설\""
      ]
    },
    {
      "cell_type": "code",
      "execution_count": null,
      "metadata": {
        "colab": {
          "base_uri": "https://localhost:8080/"
        },
        "id": "s3zb3jCzaNao",
        "outputId": "93e71146-e47c-437d-eee9-3ace20e5a9e1"
      },
      "outputs": [
        {
          "output_type": "stream",
          "name": "stdout",
          "text": [
            "Cloning into 'vlsi23_w4'...\n",
            "remote: Enumerating objects: 60029, done.\u001b[K\n",
            "remote: Counting objects: 100% (60029/60029), done.\u001b[K\n",
            "remote: Compressing objects: 100% (71/71), done.\u001b[K\n",
            "remote: Total 60029 (delta 59957), reused 60029 (delta 59957), pack-reused 0\u001b[K\n",
            "Receiving objects: 100% (60029/60029), 19.96 MiB | 20.60 MiB/s, done.\n",
            "Resolving deltas: 100% (59957/59957), done.\n",
            "Updating files: 100% (60003/60003), done.\n"
          ]
        }
      ],
      "source": [
        "!git clone \"https://github.com/Longcat2957/vlsi23_w4.git\""
      ]
    },
    {
      "cell_type": "code",
      "execution_count": null,
      "metadata": {
        "colab": {
          "base_uri": "https://localhost:8080/"
        },
        "id": "msRvRAvKv3JC",
        "outputId": "b24bdc8e-4b26-4609-e461-7a61b616c865"
      },
      "outputs": [
        {
          "output_type": "stream",
          "name": "stdout",
          "text": [
            "vlsi23_w4\n"
          ]
        }
      ],
      "source": [
        "!ls"
      ]
    },
    {
      "cell_type": "code",
      "execution_count": null,
      "metadata": {
        "colab": {
          "base_uri": "https://localhost:8080/"
        },
        "id": "8MSLrS4l2ViX",
        "outputId": "82f8ab97-2ba1-44f9-bc39-dbd307ed84aa"
      },
      "outputs": [
        {
          "output_type": "stream",
          "name": "stdout",
          "text": [
            "/content/drive/MyDrive/전전심설/vlsi23_w4\n"
          ]
        }
      ],
      "source": [
        "cd vlsi23_w4"
      ]
    },
    {
      "cell_type": "code",
      "execution_count": null,
      "metadata": {
        "colab": {
          "base_uri": "https://localhost:8080/"
        },
        "id": "YBLcn2WNv5Xz",
        "outputId": "e3087ca3-4fa4-4d08-ccca-7d409eae8dee"
      },
      "outputs": [
        {
          "output_type": "stream",
          "name": "stdout",
          "text": [
            "/usr/local/lib/python3.10/dist-packages/torch/utils/data/dataloader.py:560: UserWarning: This DataLoader will create 8 worker processes in total. Our suggested max number of worker in current system is 2, which is smaller than what this DataLoader is going to create. Please be aware that excessive worker creation might get DataLoader running slow or even freeze, lower the worker number to avoid potential slowness/freeze if necessary.\n",
            "  warnings.warn(_create_warning_msg(\n",
            "100% 1563/1563 [01:59<00:00, 13.13it/s]\n",
            "100% 313/313 [00:15<00:00, 20.11it/s]\n",
            "Epoch [1/30]\n",
            "  Train Loss: 1.6486, Train Accuracy: 39.44%\n",
            "  Val Loss: 1.3127, Val Accuracy: 52.56%\n",
            "100% 1563/1563 [01:57<00:00, 13.27it/s]\n",
            "100% 313/313 [00:15<00:00, 20.38it/s]\n",
            "Epoch [2/30]\n",
            "  Train Loss: 1.3800, Train Accuracy: 50.18%\n",
            "  Val Loss: 1.1762, Val Accuracy: 57.80%\n",
            "100% 1563/1563 [01:58<00:00, 13.23it/s]\n",
            "100% 313/313 [00:15<00:00, 20.67it/s]\n",
            "Epoch [3/30]\n",
            "  Train Loss: 1.2611, Train Accuracy: 55.10%\n",
            "  Val Loss: 1.0709, Val Accuracy: 61.51%\n",
            "100% 1563/1563 [01:58<00:00, 13.14it/s]\n",
            "100% 313/313 [00:15<00:00, 20.06it/s]\n",
            "Epoch [4/30]\n",
            "  Train Loss: 1.1806, Train Accuracy: 57.99%\n",
            "  Val Loss: 0.9718, Val Accuracy: 65.21%\n",
            "100% 1563/1563 [01:58<00:00, 13.15it/s]\n",
            "100% 313/313 [00:15<00:00, 19.88it/s]\n",
            "Epoch [5/30]\n",
            "  Train Loss: 1.1228, Train Accuracy: 60.25%\n",
            "  Val Loss: 0.9383, Val Accuracy: 66.26%\n",
            "100% 1563/1563 [02:01<00:00, 12.89it/s]\n",
            "100% 313/313 [00:16<00:00, 19.55it/s]\n",
            "Epoch [6/30]\n",
            "  Train Loss: 1.0747, Train Accuracy: 62.11%\n",
            "  Val Loss: 0.8682, Val Accuracy: 69.26%\n",
            "100% 1563/1563 [02:00<00:00, 13.01it/s]\n",
            "100% 313/313 [00:15<00:00, 20.08it/s]\n",
            "Epoch [7/30]\n",
            "  Train Loss: 1.0408, Train Accuracy: 63.40%\n",
            "  Val Loss: 0.8389, Val Accuracy: 70.33%\n",
            "100% 1563/1563 [01:58<00:00, 13.19it/s]\n",
            "100% 313/313 [00:16<00:00, 19.14it/s]\n",
            "Epoch [8/30]\n",
            "  Train Loss: 1.0018, Train Accuracy: 64.72%\n",
            "  Val Loss: 0.8361, Val Accuracy: 70.88%\n",
            "100% 1563/1563 [01:52<00:00, 13.87it/s]\n",
            "100% 313/313 [00:15<00:00, 20.37it/s]\n",
            "Epoch [9/30]\n",
            "  Train Loss: 0.9774, Train Accuracy: 65.66%\n",
            "  Val Loss: 0.8332, Val Accuracy: 70.87%\n",
            "100% 1563/1563 [01:48<00:00, 14.41it/s]\n",
            "100% 313/313 [00:14<00:00, 21.04it/s]\n",
            "Epoch [10/30]\n",
            "  Train Loss: 0.9515, Train Accuracy: 66.65%\n",
            "  Val Loss: 0.7744, Val Accuracy: 72.73%\n",
            "100% 1563/1563 [01:56<00:00, 13.39it/s]\n",
            "100% 313/313 [00:14<00:00, 21.38it/s]\n",
            "Epoch [11/30]\n",
            "  Train Loss: 0.9365, Train Accuracy: 67.32%\n",
            "  Val Loss: 0.7946, Val Accuracy: 72.09%\n",
            "100% 1563/1563 [01:54<00:00, 13.63it/s]\n",
            "100% 313/313 [00:14<00:00, 21.22it/s]\n",
            "Epoch [12/30]\n",
            "  Train Loss: 0.9207, Train Accuracy: 67.75%\n",
            "  Val Loss: 0.7387, Val Accuracy: 74.46%\n",
            "100% 1563/1563 [01:53<00:00, 13.74it/s]\n",
            "100% 313/313 [00:15<00:00, 20.04it/s]\n",
            "Epoch [13/30]\n",
            "  Train Loss: 0.9026, Train Accuracy: 68.43%\n",
            "  Val Loss: 0.7408, Val Accuracy: 74.31%\n",
            "100% 1563/1563 [02:01<00:00, 12.85it/s]\n",
            "100% 313/313 [00:15<00:00, 19.58it/s]\n",
            "Epoch [14/30]\n",
            "  Train Loss: 0.8942, Train Accuracy: 68.50%\n",
            "  Val Loss: 0.7411, Val Accuracy: 74.06%\n",
            "100% 1563/1563 [02:01<00:00, 12.85it/s]\n",
            "100% 313/313 [00:16<00:00, 18.99it/s]\n",
            "Epoch [15/30]\n",
            "  Train Loss: 0.8804, Train Accuracy: 69.30%\n",
            "  Val Loss: 0.7357, Val Accuracy: 74.78%\n",
            "100% 1563/1563 [02:03<00:00, 12.66it/s]\n",
            "100% 313/313 [00:15<00:00, 19.62it/s]\n",
            "Epoch [16/30]\n",
            "  Train Loss: 0.8707, Train Accuracy: 69.47%\n",
            "  Val Loss: 0.6853, Val Accuracy: 76.37%\n",
            "100% 1563/1563 [02:08<00:00, 12.15it/s]\n",
            "100% 313/313 [00:18<00:00, 17.08it/s]\n",
            "Epoch [17/30]\n",
            "  Train Loss: 0.8604, Train Accuracy: 69.99%\n",
            "  Val Loss: 0.7082, Val Accuracy: 75.78%\n",
            "100% 1563/1563 [02:14<00:00, 11.59it/s]\n",
            "100% 313/313 [00:18<00:00, 17.08it/s]\n",
            "Epoch [18/30]\n",
            "  Train Loss: 0.8523, Train Accuracy: 70.41%\n",
            "  Val Loss: 0.7038, Val Accuracy: 75.30%\n",
            "100% 1563/1563 [02:17<00:00, 11.34it/s]\n",
            "100% 313/313 [00:18<00:00, 17.28it/s]\n",
            "Epoch [19/30]\n",
            "  Train Loss: 0.8450, Train Accuracy: 70.64%\n",
            "  Val Loss: 0.6879, Val Accuracy: 75.77%\n",
            "100% 1563/1563 [02:17<00:00, 11.35it/s]\n",
            "100% 313/313 [00:17<00:00, 17.80it/s]\n",
            "Epoch [20/30]\n",
            "  Train Loss: 0.8406, Train Accuracy: 70.71%\n",
            "  Val Loss: 0.6982, Val Accuracy: 75.64%\n",
            "100% 1563/1563 [02:16<00:00, 11.48it/s]\n",
            "100% 313/313 [00:17<00:00, 17.63it/s]\n",
            "Epoch [21/30]\n",
            "  Train Loss: 0.8347, Train Accuracy: 71.13%\n",
            "  Val Loss: 0.6732, Val Accuracy: 76.31%\n",
            "100% 1563/1563 [02:12<00:00, 11.76it/s]\n",
            "100% 313/313 [00:17<00:00, 18.25it/s]\n",
            "Epoch [22/30]\n",
            "  Train Loss: 0.8302, Train Accuracy: 71.08%\n",
            "  Val Loss: 0.6715, Val Accuracy: 76.99%\n",
            "100% 1563/1563 [02:12<00:00, 11.76it/s]\n",
            "100% 313/313 [00:17<00:00, 17.88it/s]\n",
            "Epoch [23/30]\n",
            "  Train Loss: 0.8217, Train Accuracy: 71.20%\n",
            "  Val Loss: 0.6933, Val Accuracy: 76.35%\n",
            "100% 1563/1563 [02:12<00:00, 11.83it/s]\n",
            "100% 313/313 [00:16<00:00, 18.63it/s]\n",
            "Epoch [24/30]\n",
            "  Train Loss: 0.8249, Train Accuracy: 71.21%\n",
            "  Val Loss: 0.6527, Val Accuracy: 77.33%\n",
            "100% 1563/1563 [02:07<00:00, 12.29it/s]\n",
            "100% 313/313 [00:16<00:00, 19.10it/s]\n",
            "Epoch [25/30]\n",
            "  Train Loss: 0.8111, Train Accuracy: 71.80%\n",
            "  Val Loss: 0.6623, Val Accuracy: 77.22%\n",
            "100% 1563/1563 [02:10<00:00, 11.97it/s]\n",
            "100% 313/313 [00:15<00:00, 20.28it/s]\n",
            "Epoch [26/30]\n",
            "  Train Loss: 0.8094, Train Accuracy: 71.87%\n",
            "  Val Loss: 0.6763, Val Accuracy: 76.77%\n",
            "100% 1563/1563 [01:56<00:00, 13.37it/s]\n",
            "100% 313/313 [00:16<00:00, 19.46it/s]\n",
            "Epoch [27/30]\n",
            "  Train Loss: 0.8019, Train Accuracy: 72.16%\n",
            "  Val Loss: 0.6456, Val Accuracy: 77.31%\n",
            "100% 1563/1563 [02:04<00:00, 12.51it/s]\n",
            "100% 313/313 [00:17<00:00, 18.16it/s]\n",
            "Epoch [28/30]\n",
            "  Train Loss: 0.8027, Train Accuracy: 72.07%\n",
            "  Val Loss: 0.6539, Val Accuracy: 77.04%\n",
            "100% 1563/1563 [02:05<00:00, 12.49it/s]\n",
            "100% 313/313 [00:17<00:00, 17.77it/s]\n",
            "Epoch [29/30]\n",
            "  Train Loss: 0.7996, Train Accuracy: 72.20%\n",
            "  Val Loss: 0.6399, Val Accuracy: 77.97%\n",
            "100% 1563/1563 [02:08<00:00, 12.18it/s]\n",
            "100% 313/313 [00:16<00:00, 18.68it/s]\n",
            "Epoch [30/30]\n",
            "  Train Loss: 0.7965, Train Accuracy: 72.34%\n",
            "  Val Loss: 0.6674, Val Accuracy: 76.83%\n"
          ]
        }
      ],
      "source": [
        "!python main.py"
      ]
    }
  ],
  "metadata": {
    "accelerator": "GPU",
    "colab": {
      "provenance": [],
      "gpuType": "T4",
      "mount_file_id": "1OPD1V8tEghdiV7D1E_L6nDQAMOI-Bh7O",
      "authorship_tag": "ABX9TyOHJVEbNZJW+58FHKxHQy5O",
      "include_colab_link": true
    },
    "kernelspec": {
      "display_name": "Python 3",
      "name": "python3"
    },
    "language_info": {
      "name": "python"
    }
  },
  "nbformat": 4,
  "nbformat_minor": 0
}